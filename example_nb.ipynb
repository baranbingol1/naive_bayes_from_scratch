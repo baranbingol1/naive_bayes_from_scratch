{
 "cells": [
  {
   "cell_type": "code",
   "execution_count": 2,
   "id": "a011255b",
   "metadata": {},
   "outputs": [
    {
     "data": {
      "text/html": [
       "<div>\n",
       "<style scoped>\n",
       "    .dataframe tbody tr th:only-of-type {\n",
       "        vertical-align: middle;\n",
       "    }\n",
       "\n",
       "    .dataframe tbody tr th {\n",
       "        vertical-align: top;\n",
       "    }\n",
       "\n",
       "    .dataframe thead th {\n",
       "        text-align: right;\n",
       "    }\n",
       "</style>\n",
       "<table border=\"1\" class=\"dataframe\">\n",
       "  <thead>\n",
       "    <tr style=\"text-align: right;\">\n",
       "      <th></th>\n",
       "      <th>Pregnancies</th>\n",
       "      <th>Glucose</th>\n",
       "      <th>BloodPressure</th>\n",
       "      <th>SkinThickness</th>\n",
       "      <th>Insulin</th>\n",
       "      <th>BMI</th>\n",
       "      <th>DiabetesPedigreeFunction</th>\n",
       "      <th>Age</th>\n",
       "      <th>Outcome</th>\n",
       "    </tr>\n",
       "  </thead>\n",
       "  <tbody>\n",
       "    <tr>\n",
       "      <th>0</th>\n",
       "      <td>6</td>\n",
       "      <td>148</td>\n",
       "      <td>72</td>\n",
       "      <td>35</td>\n",
       "      <td>0</td>\n",
       "      <td>33.6</td>\n",
       "      <td>0.627</td>\n",
       "      <td>50</td>\n",
       "      <td>1</td>\n",
       "    </tr>\n",
       "    <tr>\n",
       "      <th>1</th>\n",
       "      <td>1</td>\n",
       "      <td>85</td>\n",
       "      <td>66</td>\n",
       "      <td>29</td>\n",
       "      <td>0</td>\n",
       "      <td>26.6</td>\n",
       "      <td>0.351</td>\n",
       "      <td>31</td>\n",
       "      <td>0</td>\n",
       "    </tr>\n",
       "    <tr>\n",
       "      <th>2</th>\n",
       "      <td>8</td>\n",
       "      <td>183</td>\n",
       "      <td>64</td>\n",
       "      <td>0</td>\n",
       "      <td>0</td>\n",
       "      <td>23.3</td>\n",
       "      <td>0.672</td>\n",
       "      <td>32</td>\n",
       "      <td>1</td>\n",
       "    </tr>\n",
       "    <tr>\n",
       "      <th>3</th>\n",
       "      <td>1</td>\n",
       "      <td>89</td>\n",
       "      <td>66</td>\n",
       "      <td>23</td>\n",
       "      <td>94</td>\n",
       "      <td>28.1</td>\n",
       "      <td>0.167</td>\n",
       "      <td>21</td>\n",
       "      <td>0</td>\n",
       "    </tr>\n",
       "    <tr>\n",
       "      <th>4</th>\n",
       "      <td>0</td>\n",
       "      <td>137</td>\n",
       "      <td>40</td>\n",
       "      <td>35</td>\n",
       "      <td>168</td>\n",
       "      <td>43.1</td>\n",
       "      <td>2.288</td>\n",
       "      <td>33</td>\n",
       "      <td>1</td>\n",
       "    </tr>\n",
       "  </tbody>\n",
       "</table>\n",
       "</div>"
      ],
      "text/plain": [
       "   Pregnancies  Glucose  BloodPressure  SkinThickness  Insulin   BMI  \\\n",
       "0            6      148             72             35        0  33.6   \n",
       "1            1       85             66             29        0  26.6   \n",
       "2            8      183             64              0        0  23.3   \n",
       "3            1       89             66             23       94  28.1   \n",
       "4            0      137             40             35      168  43.1   \n",
       "\n",
       "   DiabetesPedigreeFunction  Age  Outcome  \n",
       "0                     0.627   50        1  \n",
       "1                     0.351   31        0  \n",
       "2                     0.672   32        1  \n",
       "3                     0.167   21        0  \n",
       "4                     2.288   33        1  "
      ]
     },
     "execution_count": 2,
     "metadata": {},
     "output_type": "execute_result"
    }
   ],
   "source": [
    "import pandas as pd\n",
    "import numpy as np\n",
    "import matplotlib.pyplot as plt\n",
    "import seaborn as sns\n",
    "from sklearn.preprocessing import PowerTransformer, QuantileTransformer\n",
    "\n",
    "from naive_bayes import train, eval\n",
    "\n",
    "data = pd.read_csv(\"diabetes.csv\")\n",
    "data.head()"
   ]
  },
  {
   "cell_type": "code",
   "execution_count": 14,
   "id": "22dc8a71",
   "metadata": {},
   "outputs": [],
   "source": [
    "train_data = data.sample(frac=0.7, random_state=42)\n",
    "val_data = data.drop(train_data.index)"
   ]
  },
  {
   "cell_type": "code",
   "execution_count": 15,
   "id": "e3a2abfc",
   "metadata": {},
   "outputs": [
    {
     "name": "stdout",
     "output_type": "stream",
     "text": [
      "Accuracy with No Scaling: 0.7478260869565218\n",
      "Accuracy with PowerTransformer: 0.7217391304347827\n",
      "Accuracy with QuantileTransformerUniform: 0.7086956521739131\n",
      "Accuracy with QuantileTransformerNormal3: 0.6304347826086957\n",
      "Accuracy with QuantileTransformerNormal5: 0.6956521739130435\n"
     ]
    }
   ],
   "source": [
    "# Öncelikle en iyi scaling yöntemini belirleyelim algoritma dağılım bazlı olduğundan\n",
    "# Sadece non-linear scaling yöntemleri denenecektir.\n",
    "scalers = {\n",
    "    'No Scaling': None,\n",
    "    'PowerTransformer': PowerTransformer(),\n",
    "    'QuantileTransformerUniform': QuantileTransformer(n_quantiles=5),\n",
    "    'QuantileTransformerNormal3': QuantileTransformer(n_quantiles=3, output_distribution='normal'),\n",
    "    'QuantileTransformerNormal5': QuantileTransformer(n_quantiles=5, output_distribution='normal')\n",
    "}\n",
    "results = {}\n",
    "for scaler_name, scaler in scalers.items():\n",
    "    \n",
    "    scaled_train_data = train_data.copy()\n",
    "    scaled_val_data = val_data.copy()\n",
    "    if scaler is not None:\n",
    "        scaled_train_data.iloc[:, :-1] = scaler.fit_transform(train_data.iloc[:, :-1])\n",
    "        scaled_val_data.iloc[:, :-1] = scaler.transform(val_data.iloc[:, :-1]) \n",
    "        \n",
    "        class_stats = train(scaled_train_data)\n",
    "        acc = eval(class_stats, scaled_val_data)\n",
    "        results[scaler_name] = acc\n",
    "    else:\n",
    "        # yeni oluşan dataframelere hiçbir şey yapmadan eğit\n",
    "        class_stats = train(scaled_train_data)\n",
    "        acc = eval(class_stats, scaled_val_data)\n",
    "        results[\"No Scaling\"] = acc\n",
    "\n",
    "for scaler_name, acc in results.items():\n",
    "    print(f\"Accuracy with {scaler_name}: {acc}\")"
   ]
  },
  {
   "cell_type": "code",
   "execution_count": 25,
   "id": "74f2c366",
   "metadata": {},
   "outputs": [],
   "source": [
    "param_results = {}\n",
    "var_smoothing_grid = np.linspace(1e-5, 1e-15, 10)\n",
    "n = len(var_smoothing_grid)\n",
    "class_stats = train(train_data)\n",
    "for i in range(n):\n",
    "    acc = eval(class_stats, val_data, var_smoothing=var_smoothing_grid[i])\n",
    "    param_results[i] = acc"
   ]
  },
  {
   "cell_type": "code",
   "execution_count": 26,
   "id": "40cfdfe8",
   "metadata": {},
   "outputs": [
    {
     "data": {
      "text/plain": [
       "{0: 0.7478260869565218,\n",
       " 1: 0.7478260869565218,\n",
       " 2: 0.7478260869565218,\n",
       " 3: 0.7478260869565218,\n",
       " 4: 0.7478260869565218,\n",
       " 5: 0.7478260869565218,\n",
       " 6: 0.7478260869565218,\n",
       " 7: 0.7478260869565218,\n",
       " 8: 0.7478260869565218,\n",
       " 9: 0.7478260869565218}"
      ]
     },
     "execution_count": 26,
     "metadata": {},
     "output_type": "execute_result"
    }
   ],
   "source": [
    "param_results"
   ]
  }
 ],
 "metadata": {
  "kernelspec": {
   "display_name": "Python 3 (ipykernel)",
   "language": "python",
   "name": "python3"
  },
  "language_info": {
   "codemirror_mode": {
    "name": "ipython",
    "version": 3
   },
   "file_extension": ".py",
   "mimetype": "text/x-python",
   "name": "python",
   "nbconvert_exporter": "python",
   "pygments_lexer": "ipython3",
   "version": "3.11.4"
  }
 },
 "nbformat": 4,
 "nbformat_minor": 5
}
